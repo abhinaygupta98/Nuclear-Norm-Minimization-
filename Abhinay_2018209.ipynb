{
 "cells": [
  {
   "cell_type": "code",
   "execution_count": 74,
   "metadata": {},
   "outputs": [],
   "source": [
    "import pandas as pd\n",
    "import numpy as np\n",
    "import warnings\n",
    "warnings.filterwarnings('ignore')"
   ]
  },
  {
   "cell_type": "code",
   "execution_count": 75,
   "metadata": {},
   "outputs": [
    {
     "name": "stdout",
     "output_type": "stream",
     "text": [
      "<class 'pandas.core.frame.DataFrame'>\n",
      "RangeIndex: 80000 entries, 0 to 79999\n",
      "Data columns (total 4 columns):\n",
      " #   Column     Non-Null Count  Dtype\n",
      "---  ------     --------------  -----\n",
      " 0   user_id    80000 non-null  int64\n",
      " 1   movie_id   80000 non-null  int64\n",
      " 2   rating     80000 non-null  int64\n",
      " 3   timestamp  80000 non-null  int64\n",
      "dtypes: int64(4)\n",
      "memory usage: 2.4 MB\n"
     ]
    }
   ],
   "source": [
    "columns_names = [\"user_id\",\"movie_id\",\"rating\",\"timestamp\"]\n",
    "# taking train and test data\n",
    "#please note\n",
    "train = pd.read_csv(\"ml-100k/u5.base\",sep = '\\t',names = columns_names)\n",
    "test = pd.read_csv(\"ml-100k/u5.test\",sep = '\\t',names = columns_names)\n",
    "train.info()"
   ]
  },
  {
   "cell_type": "code",
   "execution_count": 76,
   "metadata": {},
   "outputs": [],
   "source": [
    "\n",
    "# 943 users on 1682 movies\n",
    "movie_matrix=np.zeros((1682,943))\n",
    "#total number of rows in train dataframe\n",
    "total = len(train)\n",
    "#forming movie matrix (Y) from available dataset\n",
    "for i in range (total):\n",
    "    u_id = train[\"user_id\"][i]-1\n",
    "    m_id = train[\"movie_id\"][i]-1\n",
    "    rating= train[\"rating\"][i]\n",
    "    movie_matrix[m_id][u_id]= rating\n",
    "    \n",
    "Y = movie_matrix\n"
   ]
  },
  {
   "cell_type": "code",
   "execution_count": 77,
   "metadata": {},
   "outputs": [
    {
     "data": {
      "text/plain": [
       "(1682, 943)"
      ]
     },
     "execution_count": 77,
     "metadata": {},
     "output_type": "execute_result"
    }
   ],
   "source": [
    "Y.shape"
   ]
  },
  {
   "cell_type": "code",
   "execution_count": 78,
   "metadata": {},
   "outputs": [],
   "source": [
    "# Forming mask matrix R from Y\n",
    "\n",
    "R = np.zeros((1682,943))\n",
    "for i in range(1682):\n",
    "    for j in range(943):\n",
    "        if(Y[i][j]==0):\n",
    "            R[i][j]=0\n",
    "        else :\n",
    "            R[i][j]=1\n",
    "#Random Matrix X \n",
    "np.random.seed(1)\n",
    "X= np.random.randint(1,5,(1682,943))\n"
   ]
  },
  {
   "cell_type": "code",
   "execution_count": 79,
   "metadata": {},
   "outputs": [],
   "source": [
    "k=500 #number of iterations\n",
    "lamb =10 #threshold\n",
    "Xcurr = X # X matrix for the current iteration\n",
    "\n"
   ]
  },
  {
   "cell_type": "code",
   "execution_count": 82,
   "metadata": {},
   "outputs": [],
   "source": [
    "for epoch in range(1, k):\n",
    "        Xprev = Xcurr #Xprev is Xmatrix from the previous iteration\n",
    "        B = Xprev + Y-np.multiply(R,Xprev) # B matrix by choosing only observed values from X and subtracting it from Y and adding to X\n",
    "        U,s,V = np.linalg.svd(B,full_matrices=False) #SVD of B\n",
    "        \n",
    "        sigma =s \n",
    "        # Now changing sigma by replacing max of 0 , s-lamb/2 at each index\n",
    "        for i in range(len(s)):\n",
    "            sigma[i] = max(0, s[i]- lamb/2)\n",
    "        #taking diagonal of sigma\n",
    "        Sigma = np.diag(sigma)\n",
    "        #finding new X current from U, Sigma and V\n",
    "        Xcurr = np.matmul(np.matmul(U, Sigma), V)\n",
    "        \n",
    "        if (np.linalg.norm((Xcurr- Xprev), 'fro')<lamb):\n",
    "            continue\n",
    "        else:\n",
    "            break\n",
    "\n",
    "       \n",
    "        \n",
    "        \n",
    "\n"
   ]
  },
  {
   "cell_type": "code",
   "execution_count": 81,
   "metadata": {},
   "outputs": [
    {
     "name": "stdout",
     "output_type": "stream",
     "text": [
      "0.7722060183441429\n"
     ]
    }
   ],
   "source": [
    "#Now calculating MAE\n",
    "# 943 users on 1682 movies\n",
    "X=Xcurr\n",
    "movie_matrix=np.zeros((1682,943))\n",
    "#total number of rows in test dataframe\n",
    "total = len(test)\n",
    "error =0\n",
    "#calculating MAE\n",
    "#for this we take the rating from the test matrix and subtract it from the rating of X that we have claculated\n",
    "# and then take its absolute\n",
    "for i in range (total):\n",
    "    error+=abs(test[\"rating\"][i]-X[test[\"movie_id\"][i]-1][test[\"user_id\"][i]-1])\n",
    "\n",
    "#then we divide the total error by the length of test data for MAE    \n",
    "MAE = error/total\n",
    "print(MAE)\n",
    "\n",
    "# MAE = 0.7722060183441429"
   ]
  }
 ],
 "metadata": {
  "kernelspec": {
   "display_name": "Python 3",
   "language": "python",
   "name": "python3"
  },
  "language_info": {
   "codemirror_mode": {
    "name": "ipython",
    "version": 3
   },
   "file_extension": ".py",
   "mimetype": "text/x-python",
   "name": "python",
   "nbconvert_exporter": "python",
   "pygments_lexer": "ipython3",
   "version": "3.8.3"
  }
 },
 "nbformat": 4,
 "nbformat_minor": 4
}
